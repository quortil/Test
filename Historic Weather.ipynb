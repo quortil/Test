{
 "cells": [
  {
   "cell_type": "markdown",
   "metadata": {},
   "source": [
    "# Download weather data\n",
    "Data source http://www.timeanddate.com/weather\n",
    "## Notes\n",
    "This function works for any town and country for which data is available on the timeanddate website. If successful, it returns a five-element list of tuples. The first row contains a tuple of headers ('Date', 'Period', 'Description', 'Temp C', 'TempLow C', 'Pressure mbar', 'WindSpeed mph', 'WindDirn', 'Humidity'). The four remaining entries provide the historic weather observations for four six hour periods during the day. The main periods of interest are morning and afternoon: '06:00 — 12:00' and '12:00 — 18:00'. If unsuccessful, the function prints \"No historic data\", probably due to the town/country not being in the database or the date being to far back in history."
   ]
  },
  {
   "cell_type": "code",
   "execution_count": 60,
   "metadata": {
    "collapsed": false
   },
   "outputs": [
    {
     "name": "stdout",
     "output_type": "stream",
     "text": [
      "('Date', 'Period', 'Description', 'Temp C', 'TempLow C', 'Pressure mbar', 'WindSpeed mph', 'WindDirn', 'Humidity')\n",
      "(' 8 May 2012', '00:00 — 06:00', 'Drizzle. Low clouds', '11', '10', '1008', '6.836', '180', '93')\n",
      "(' 8 May 2012', '06:00 — 12:00', 'Drizzle', '13', '11', '1007', '6.214', '180', '84')\n",
      "(' 8 May 2012', '12:00 — 18:00', 'Snow', '18', '14', '1006', '8.078', '230', '63')\n",
      "(' 8 May 2012', '18:00 — 00:00', 'Haze', '17', '12', '1006', '7.457', '230', '66')\n"
     ]
    }
   ],
   "source": [
    "import urllib.request\n",
    "import re\n",
    "import datetime\n",
    "\n",
    "def historicWeather(d=29, m=6, y=2015, town='London', country='uk'):\n",
    "    \"\"\" Returns 4 historic weather observations for date, location and country\"\"\"\n",
    "\n",
    "    tday = datetime.date.today()\n",
    "    yday = tday - datetime.timedelta(days=1)\n",
    "    if datetime.date(y,m,d) in [tday, yday]:    # Different link if date is today or yesterday\n",
    "        link = 'http://www.timeanddate.com/weather/'+country.lower()+'/' + town.lower() +'/historic'\n",
    "    else:\n",
    "        link = 'http://www.timeanddate.com/weather/'+country.lower()+'/' + town.lower() +'/historic?month=' + str(m) + '&year=' + str(y)\n",
    "\n",
    "    try:\n",
    "        f = urllib.request.urlopen(link)\n",
    "        myfile = f.read().decode(\"utf-8\")\n",
    "        f.close()\n",
    "\n",
    "        # Date padded with an initial space to prevent \"15 Jan\" and \"25 Jan\" being picked up by \" 5 Jan\"\n",
    "        dateString = datetime.date(y,m,d).strftime(\"X%d %B %Y\").replace('X0','X ').replace('X','')\n",
    "\n",
    "        # Tricky long regular express extracts, date, time period, description, temp, lowtemp, pressure, windSpeed, windDirn and humidity\n",
    "        pattern = '(' + dateString + ')' + ', (\\d+:\\d+ — \\d+:\\d+)\",\"icon\":(?:\\d+),\"desc\":\"(.*?)\\.\",\"temp\":(-?\\d+),\"templow\":(-?\\d+),\"baro\":(\\d+),\"wind\":(\\d+\\.\\d+),\"wd\":(\\d+),\"hum\":(\\d+)\\}'\n",
    "        match = re.findall(pattern, myfile[:])\n",
    "    except:\n",
    "        match=[]\n",
    "    if len(match)==0 :\n",
    "        print('No historic data available')\n",
    "    match = [('Date', 'Period', 'Description', 'Temp C', 'TempLow C','Pressure mbar','WindSpeed mph', 'WindDirn', 'Humidity')]+match\n",
    "    return match\n",
    "\n",
    "\n",
    "#************THIS IS WHERE YOU RUN IT**********************\n",
    "weather = historicWeather(d=8,m=5,y=2012,town='london',country='uk')\n",
    "\n",
    "#************PRINTING SAMPLE OUTPUT**********************\n",
    "for i in weather:\n",
    "    print(i)\n",
    "\n",
    "\n"
   ]
  },
  {
   "cell_type": "markdown",
   "metadata": {
    "collapsed": false
   },
   "source": [
    "\n"
   ]
  },
  {
   "cell_type": "code",
   "execution_count": 32,
   "metadata": {
    "collapsed": false
   },
   "outputs": [
    {
     "name": "stdout",
     "output_type": "stream",
     "text": [
      "('Date', 'Period', 'Description', 'Temp C', 'TempLow C', 'Pressure mbar', 'WindSpeed mph', 'WindDirn', 'Humidity')\n",
      "('23 November 2016', '00:00 — 06:00', 'Passing clouds', '5', '2', '1015', '6.214', '340', '88')\n",
      "('23 November 2016', '06:00 — 12:00', 'Passing clouds', '6', '2', '1020', '4.35', '320', '92')\n",
      "('23 November 2016', '12:00 — 18:00', 'Passing clouds', '7', '3', '1024', '4.35', '20', '86')\n",
      "('23 November 2016', '18:00 — 00:00', 'Passing clouds', '3', '0', '1027', '2.486', '310', '96')\n",
      "('Date', 'Period', 'Description', 'Temp C', 'TempLow C', 'Pressure mbar', 'WindSpeed mph', 'WindDirn', 'Humidity')\n",
      "('24 November 2016', '00:00 — 06:00', 'Clear', '0', '-1', '1029', '1.864', '260', '100')\n",
      "('24 November 2016', '06:00 — 12:00', 'Scattered clouds', '4', '-1', '1030', '1.243', '0', '95')\n",
      "('24 November 2016', '12:00 — 18:00', 'Partly sunny', '5', '4', '1030', '1.243', '0', '88')\n"
     ]
    }
   ],
   "source": [
    "import datetime\n",
    "Today = datetime.date.today()\n",
    "Yesterday = Today - datetime.timedelta(days=1)\n",
    "\n",
    "weather = historicWeather(d=Yesterday.day, m=Yesterday.month, y=Yesterday.year,town='durham',country='uk')\n",
    "for i in weather:\n",
    "    print(i)\n",
    "\n",
    "weather = historicWeather(d=Today.day, m=Today.month, y=Today.year,town='durham',country='uk')\n",
    "for i in weather:\n",
    "    print(i)\n"
   ]
  },
  {
   "cell_type": "code",
   "execution_count": 33,
   "metadata": {
    "collapsed": false
   },
   "outputs": [
    {
     "name": "stdout",
     "output_type": "stream",
     "text": [
      "('Date', 'Period', 'Description', 'Temp C', 'TempLow C', 'Pressure mbar', 'WindSpeed mph', 'WindDirn', 'Humidity')\n",
      "('21 November 2016', '00:00 — 06:00', 'No weather data available\",\"baro\":0,\"wind\":0,\"wd\":0,\"hum\":0},{\"date\":1479708E6,\"ts\":\"06:00\",\"ds\":\"Monday, 21 November 2016, 06:00 — 12:00\",\"icon\":2,\"desc\":\"Refreshingly cool', '11', '10', '1001', '13.671', '220', '96')\n",
      "('21 November 2016', '12:00 — 18:00', 'Refreshingly cool', '13', '11', '1003', '12.428', '220', '74')\n",
      "('21 November 2016', '18:00 — 00:00', 'Clear', '11', '10', '1005', '9.321', '220', '74')\n"
     ]
    }
   ],
   "source": [
    "weather = historicWeather(d=21,m=11,y=2016,town='madrid',country='spain')\n",
    "for i in weather:\n",
    "    print(i)\n"
   ]
  },
  {
   "cell_type": "code",
   "execution_count": 56,
   "metadata": {
    "collapsed": false
   },
   "outputs": [
    {
     "name": "stdout",
     "output_type": "stream",
     "text": [
      "                     baro                     desc  \\\n",
      "date                                                 \n",
      "2016-11-12 12:00:00  1015  Drizzle. Mostly cloudy.   \n",
      "\n",
      "                                                            ds  hum  icon  \\\n",
      "date                                                                        \n",
      "2016-11-12 12:00:00  Saturday, 12 November 2016, 12:00 — 18:00   99    18   \n",
      "\n",
      "                     temp  templow     ts   wd   wind  \n",
      "date                                                   \n",
      "2016-11-12 12:00:00    10       10  12:00  150  3.728  \n"
     ]
    }
   ],
   "source": [
    "import json \n",
    "x = '{\"date\":1478952E6,\"ts\":\"12:00\",\"ds\":\"Saturday, 12 November 2016, 12:00 — 18:00\",\"icon\":18,\"desc\":\"Drizzle. Mostly cloudy.\",\"temp\":10,\"templow\":10,\"baro\":1015,\"wind\":3.728,\"wd\":150,\"hum\":99}'\n",
    "y = json.loads(x)\n",
    "\n",
    "import pandas as pd\n",
    "df = pd.DataFrame.from_dict([y])\n",
    "df.date = pd.to_datetime(df.date*1e6)\n",
    "df.index = df.date\n",
    "df = df.drop('date', axis=1)\n",
    "print(df)\n",
    "\n"
   ]
  },
  {
   "cell_type": "code",
   "execution_count": 42,
   "metadata": {
    "collapsed": false
   },
   "outputs": [
    {
     "name": "stdout",
     "output_type": "stream",
     "text": [
      "2016-11-12\n"
     ]
    }
   ],
   "source": [
    "import datetime as dt\n",
    "\n",
    "print(dt.date.fromtimestamp(df.date/1e3))"
   ]
  },
  {
   "cell_type": "code",
   "execution_count": null,
   "metadata": {
    "collapsed": true
   },
   "outputs": [],
   "source": []
  }
 ],
 "metadata": {
  "anaconda-cloud": {},
  "kernelspec": {
   "display_name": "Python [Root]",
   "language": "python",
   "name": "Python [Root]"
  },
  "language_info": {
   "codemirror_mode": {
    "name": "ipython",
    "version": 3
   },
   "file_extension": ".py",
   "mimetype": "text/x-python",
   "name": "python",
   "nbconvert_exporter": "python",
   "pygments_lexer": "ipython3",
   "version": "3.5.2"
  }
 },
 "nbformat": 4,
 "nbformat_minor": 0
}
